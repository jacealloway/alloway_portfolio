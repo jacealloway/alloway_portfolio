{
 "cells": [
  {
   "cell_type": "markdown",
   "id": "098ad455-0a0c-4770-b84d-25bc951d3466",
   "metadata": {},
   "source": [
    "# Comparing methods for a simple ODE"
   ]
  },
  {
   "cell_type": "markdown",
   "id": "3dff43de-a9b4-4446-8c42-22dcc73112f3",
   "metadata": {},
   "source": [
    "## Exercise 1"
   ]
  },
  {
   "cell_type": "markdown",
   "id": "91538571-0c7b-4503-820c-538ec76813f5",
   "metadata": {
    "slideshow": {
     "slide_type": "slide"
    }
   },
   "source": [
    "Use Euler's Method to solve for $x(t)$ given\n",
    "$$ \\frac{\\text d x}{\\text d t} = -x^3(t) + \\sin(t) $$\n",
    "from 0 to 10 seconds, with initial condition $x(t=0) = 0$.\n",
    "\n",
    "Try with 20 time-steps, and again with 1000 time-steps. Plot the results, on the same graph."
   ]
  },
  {
   "cell_type": "code",
   "execution_count": null,
   "id": "58250fa3",
   "metadata": {},
   "outputs": [],
   "source": [
    "import numpy as np\n",
    "import matplotlib.pyplot as plt \n",
    "\n",
    "def f(x, t):\n",
    "    return -x**3 + np.sin(t)\n",
    "\n",
    "x0 = 0\n",
    "t1 = 0 \n",
    "t2 = 10\n",
    "N = (20, 1000)\n",
    "for n in N:\n",
    "    timearr = np.linspace(t1, t2, n)\n",
    "\n",
    "    h = timearr[1] - timearr[0] #spacing \n",
    "\n",
    "    x = np.zeros(n)\n",
    "    x[0] = x0\n",
    "\n",
    "    for k in range(len(timearr)-1):\n",
    "        x[k+1] = x[k] + h*f(x[k], timearr[k+1])\n",
    "\n",
    "    plt.plot(timearr, x, label=\"N = %i Samples\"%n)\n",
    "    \n",
    "plt.legend(loc='lower right')\n",
    "plt.xlabel('Time')\n",
    "plt.ylabel('x(t)')\n",
    "plt.title(\"Solution to ODE via Euler's Method\")\n",
    "plt.show()\n",
    "\n",
    "\n",
    "\n",
    "\n",
    "\n",
    "\n"
   ]
  },
  {
   "cell_type": "markdown",
   "id": "f4ddfb90-1e81-4e64-b385-3aa6d605eb7b",
   "metadata": {},
   "source": [
    "## Exercise 2"
   ]
  },
  {
   "cell_type": "markdown",
   "id": "ce56b40e-f115-4645-a600-96430a885b70",
   "metadata": {},
   "source": [
    "Repeat Exercise 1 using RK2."
   ]
  },
  {
   "cell_type": "code",
   "execution_count": null,
   "id": "77dd3b6c",
   "metadata": {},
   "outputs": [],
   "source": [
    "for n in N:\n",
    "    timearr = np.linspace(t1, t2, n)\n",
    "\n",
    "    h = timearr[1] - timearr[0] #spacing \n",
    "\n",
    "\n",
    "    x = np.zeros(n)\n",
    "    x[0] = x0\n",
    "\n",
    "    for k in range(len(timearr) - 1):\n",
    "        m1 = h*f(x[k], timearr[k])\n",
    "        m2 = h*f(x[k] + 0.5*m1, timearr[k] + 0.5*h)\n",
    "        x[k+1] = x[k] + m2\n",
    "\n",
    "    plt.plot(timearr, x, label=\"N = %i Samples\"%n)\n",
    "    \n",
    "plt.legend(loc='lower right')\n",
    "plt.xlabel('Time')\n",
    "plt.ylabel('x(t)')\n",
    "plt.title(\"Solution to ODE via RK2 Method\")\n",
    "plt.show()"
   ]
  },
  {
   "cell_type": "markdown",
   "id": "d3f07efc-15cf-48dd-b119-baee7bc60608",
   "metadata": {
    "tags": []
   },
   "source": [
    "## Exercise 3"
   ]
  },
  {
   "cell_type": "markdown",
   "id": "54eb163d-e205-49e6-a00e-5d4dcedd6082",
   "metadata": {},
   "source": [
    "Repeat Exercise 1 using RK4."
   ]
  },
  {
   "cell_type": "code",
   "execution_count": null,
   "id": "dda51bad",
   "metadata": {},
   "outputs": [],
   "source": [
    "for n in N:\n",
    "    timearr = np.linspace(t1, t2, n)\n",
    "\n",
    "    h = timearr[1] - timearr[0] #spacing \n",
    "\n",
    "    x = np.zeros(n)\n",
    "    x[0] = x0\n",
    "\n",
    "    for k in range(len(timearr) - 1):\n",
    "        m1 = h*f(x[k], timearr[k])\n",
    "        m2 = h*f(x[k] + 0.5*m1, timearr[k] + 0.5*h)\n",
    "        m3 = h*f(x[k] + 0.5*m2, timearr[k] + 0.5*h)\n",
    "        m4 = h*f(x[k] + m3, timearr[k] + h)\n",
    "        x[k+1] = x[k] + (1/6)*(m1 + 2*m2 + 2*m3 + m4)\n",
    "\n",
    "    plt.plot(timearr, x, label=\"N = %i Samples\"%n)\n",
    "    \n",
    "plt.legend(loc='lower right')\n",
    "plt.xlabel('Time')\n",
    "plt.ylabel('x(t)')\n",
    "plt.title(\"Solution to ODE via RK4 Method\")\n",
    "plt.show()"
   ]
  },
  {
   "cell_type": "markdown",
   "id": "c7562c37-0a7a-451c-b4e6-b74acdf436f2",
   "metadata": {
    "tags": []
   },
   "source": [
    "## Exercise 4"
   ]
  },
  {
   "cell_type": "markdown",
   "id": "7d52a6f2-5707-4fb0-91ba-0f4546510299",
   "metadata": {
    "tags": []
   },
   "source": [
    "Repeat Exercise 1 using Bulirsch-Stoer, with error tolerance 1e-08. You may copy-and-paste code from the textbook's 'bulirsch.py' to help you."
   ]
  },
  {
   "cell_type": "code",
   "execution_count": null,
   "id": "9aff84a0",
   "metadata": {},
   "outputs": [],
   "source": [
    "epsilon = 1e-8\n",
    "\n",
    "\n",
    "\n",
    "N = (20, 1000)\n",
    "\n",
    "for n in N:\n",
    "    h = (t2-t1)/n   #set spacing\n",
    "\n",
    "    timearr = np.linspace(t1, t2, n)\n",
    "    x = np.zeros(len(timearr))\n",
    "    x[0] = x0\n",
    "    \n",
    "    #large stepsize first\n",
    "    for k in range(len(timearr)):\n",
    "        q=1\n",
    "        m1 = x[k] + 0.5*h*f(x[k], timearr[k])\n",
    "        m2 = x[k] + h*f(m1, timearr[k])\n",
    "\n",
    "        R1 = np.empty(q)\n",
    "        R1[0] = 0.5*(m1 + m2 + 0.5*h*f(m2, timearr[k]))\n",
    "\n",
    "    error = 2*h*epsilon\n",
    "    while error > h*epsilon:\n",
    "        q += 1\n",
    "        H = h/q\n",
    "\n",
    "        m1 = x[k] + 0.5*H*f(x[k], timearr[k])\n",
    "        m2 = x[k] + H*f(m1, timearr[k])\n",
    "        for l in range(q-1):\n",
    "            m1 += H*f(m2, timearr[k])\n",
    "            m2 += H*f(m1, timearr[k])\n",
    "\n",
    "        R2 = R1\n",
    "        R1 = np.empty(q)\n",
    "\n",
    "        R1[0] = 0.5*(m1 + m2 + 0.5*H*f(m2, timearr[k]))\n",
    "        for m in range(1, q):\n",
    "            z = (R1[m-1] - R2[m-1])/((q/(q-1))**(2*m) - 1)\n",
    "            R1[m] = R1[m-1] + z\n",
    "        \n",
    "        error  = np.abs(z)\n",
    "        x[k] = R1[q-1]\n",
    "\n",
    "    plt.plot(timearr, x)\n",
    "    plt.show()\n",
    "\n",
    "\n",
    "\n",
    "\n",
    "\n",
    "###I spent the whole lab on this part \n",
    "###no idea how to get it to work \n"
   ]
  },
  {
   "cell_type": "markdown",
   "id": "7c751cbc-9859-4336-b3fb-03a4c8f473ce",
   "metadata": {
    "tags": []
   },
   "source": [
    "## Exercise 5"
   ]
  },
  {
   "cell_type": "markdown",
   "id": "add76a6f-e35f-4e50-8c0f-b0c11a719e11",
   "metadata": {},
   "source": [
    "Repeat Exercise 1 using scipy.integrate.odeint"
   ]
  },
  {
   "cell_type": "code",
   "execution_count": null,
   "id": "cdd0f76c",
   "metadata": {},
   "outputs": [],
   "source": [
    "from scipy.integrate import odeint\n",
    "\n",
    "for n in N:\n",
    "    timearr = np.linspace(t1, t2, n)\n",
    "\n",
    "    h = timearr[1] - timearr[0] #spacing \n",
    "\n",
    "    x = odeint(f, x0, timearr)\n",
    "\n",
    "    plt.plot(timearr, x, label=\"N = %i Samples\"%n)\n",
    "    \n",
    "plt.legend(loc='lower right')\n",
    "plt.xlabel('Time')\n",
    "plt.ylabel('x(t)')\n",
    "plt.title(\"Solution to ODE via scipy.integrate.odeint Method\")\n",
    "plt.show()"
   ]
  },
  {
   "cell_type": "markdown",
   "id": "986b07a1-1a2a-406d-a44d-728a6d2e54f9",
   "metadata": {
    "tags": []
   },
   "source": [
    "## Exercise 6"
   ]
  },
  {
   "cell_type": "markdown",
   "id": "5828add8-0576-48ea-b629-faea055fc984",
   "metadata": {},
   "source": [
    "Plot your Exercise 1 through 5 results for $N=20$, on the same graph.\n",
    "\n",
    "Plot your Exercise 1 through 5 results for $N=1000$, on the same graph. \n",
    "\n",
    "(So you should have 2 graphs for this exercise.)"
   ]
  },
  {
   "cell_type": "code",
   "execution_count": null,
   "id": "507f389d",
   "metadata": {},
   "outputs": [],
   "source": [
    "# for n in N:\n",
    "#     timearr = np.linspace(t1, t2, n)\n",
    "\n",
    "#     h = timearr[1] - timearr[0] #spacing \n",
    "\n",
    "#     x = odeint(f, x0, timearr)\n",
    "\n",
    "#     plt.plot(timearr, x, label=\"N = %i Samples\"%n)\n",
    "    \n",
    "    # plt.legend(loc='lower right')\n",
    "    # plt.xlabel('Time')\n",
    "    # plt.ylabel('x(t)')\n",
    "    # plt.title(\"Solution to ODE via RK4 Method\")\n",
    "    # plt.show()"
   ]
  },
  {
   "cell_type": "markdown",
   "id": "9525cfa1-b68a-46b4-a7aa-b150959277ad",
   "metadata": {},
   "source": [
    "# Stability of ODE Solutions"
   ]
  },
  {
   "cell_type": "markdown",
   "id": "9403037b-c622-4909-8f5d-05bbf2265eff",
   "metadata": {
    "tags": []
   },
   "source": [
    "* We have focused on accuracy and speed in investigating our solutions to ODEs.\n",
    "* But stability is also important!\n",
    "* The stability of solutions tells us how fast initially close solutions diverge from each other.\n",
    "* In other words, a stable solution tends to a finite number.\n",
    "* Some systems are inherently unstable and so will always be challenging to simulate. Physical stability or instability of a system can be determined from small perturbations to a solution of the ODE.\n",
    "* But even for physically stable systems, numerical methods can be unstable (i.e. give approximation and roundoff errors that grow)."
   ]
  },
  {
   "cell_type": "markdown",
   "id": "360bd869-72d0-47ea-8bdd-2e76bb8edc34",
   "metadata": {},
   "source": [
    "## Exercise 7"
   ]
  },
  {
   "cell_type": "markdown",
   "id": "992e0888-d0e9-4155-9e41-5fdb1e485dab",
   "metadata": {
    "slideshow": {
     "slide_type": "subslide"
    }
   },
   "source": [
    "Consider: $y'(t) = -2.3y(t), y(t=0) = 1$\n",
    "\n",
    "The analytical solution is:\n",
    "$y(t) = \\exp (-2.3 t)$ . This is a stable solution, i.e. it tends to a finite number: $y \\rightarrow 0$ as $t \\rightarrow \\infty$\n",
    "\n",
    "Demonstrate (by making 2 plots) that computationally, the Euler method for the interval $0 < t < 20$ is stable for $h=0.7$ but unstable for $h=1$."
   ]
  },
  {
   "cell_type": "code",
   "execution_count": null,
   "id": "1581420b-d3f9-4859-99e6-4c6effcae150",
   "metadata": {},
   "outputs": [],
   "source": [
    "def g(x):\n",
    "    return -2.3*x\n",
    "\n",
    "y0 = 1\n",
    "for h in (0.7, 1):\n",
    "    timearr = np.arange(0, 20, h)\n",
    "    \n",
    "    y = np.zeros(len(timearr))\n",
    "    y[0] = 1\n",
    "\n",
    "    for k in range(len(timearr) - 1):\n",
    "        y[k+1] = y[k] + h * g(y[k])\n",
    "\n",
    "\n",
    "    plt.plot(timearr, y)\n",
    "    plt.xlabel('Time')\n",
    "    plt.ylabel('y(t)')\n",
    "    plt.title('y(t) solution with h = %.1f spacing'%h)\n",
    "    plt.show()\n",
    "\n",
    "\n"
   ]
  }
 ],
 "metadata": {
  "kernelspec": {
   "display_name": "base",
   "language": "python",
   "name": "python3"
  },
  "language_info": {
   "codemirror_mode": {
    "name": "ipython",
    "version": 3
   },
   "file_extension": ".py",
   "mimetype": "text/x-python",
   "name": "python",
   "nbconvert_exporter": "python",
   "pygments_lexer": "ipython3",
   "version": "3.12.2"
  }
 },
 "nbformat": 4,
 "nbformat_minor": 5
}
