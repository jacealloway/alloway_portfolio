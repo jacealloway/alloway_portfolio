{
 "cells": [
  {
   "cell_type": "markdown",
   "id": "5a486afc-6e00-444b-a04e-27717cac254a",
   "metadata": {
    "tags": []
   },
   "source": [
    "## Finding Roots of a Non-Linear Equation"
   ]
  },
  {
   "cell_type": "markdown",
   "id": "f3b72951",
   "metadata": {
    "tags": []
   },
   "source": [
    "Consider the equation: $5e^{-x} +x - 5 = 0$ . Suppose we want to solve it with (absolute) accuracy tolerance $\\epsilon = 10^{-6}$."
   ]
  },
  {
   "cell_type": "markdown",
   "id": "2aaaab60-c576-4fb6-aa67-a9c1759e18db",
   "metadata": {},
   "source": [
    "### Exercise 1\n",
    "Solve using binary search. How many iterations are required?"
   ]
  },
  {
   "cell_type": "code",
   "execution_count": 22,
   "id": "bfd38a6a",
   "metadata": {},
   "outputs": [
    {
     "name": "stdout",
     "output_type": "stream",
     "text": [
      "4 5\n",
      "15 4.965118408203125 4.030760177187176e-06\n"
     ]
    }
   ],
   "source": [
    "import numpy as np \n",
    "\n",
    "\n",
    "def f(x):\n",
    "    return 5*np.exp(-x) + x - 5\n",
    "\n",
    "\n",
    "    #solve for f(x) = 0 ... obviously x=0 is a solution, but lets find the other not zero\n",
    "    #set initial points\n",
    "x1 = 4\n",
    "x2 = 5\n",
    "target = 10**(-6)\n",
    "# print(np.sign(f(x1)), np.sign(f(x2)))       #opposite signs \n",
    "\n",
    "def midpoint(a, b):\n",
    "    \"\"\"\n",
    "    **Returns:** Midpoint between a and b.\n",
    "    \"\"\"\n",
    "    return 0.5*(a+b)\n",
    "\n",
    "counter = 1\n",
    "while np.abs(x1-x2)/(2*counter) > target:\n",
    "    xn = midpoint(x1, x2)\n",
    "    if np.sign(f(xn)) == np.sign(f(x1)):\n",
    "        x1 = xn\n",
    "    elif np.sign(f(xn)) == np.sign(f(x2)):\n",
    "        x2 = xn \n",
    "    counter = counter+1 #up the iteration counter\n",
    "\n",
    "print(counter-1, xn, f(xn))\n",
    "#around 15 iterations are required\n",
    "    \n"
   ]
  },
  {
   "cell_type": "markdown",
   "id": "8a9be76f-485f-4bfe-ae9d-9fd83c1af802",
   "metadata": {},
   "source": [
    "### Exercise 2\n",
    "Solve using relaxation. How many iterations are required?"
   ]
  },
  {
   "cell_type": "code",
   "execution_count": 42,
   "id": "ea3118b5",
   "metadata": {},
   "outputs": [
    {
     "name": "stdout",
     "output_type": "stream",
     "text": [
      "3.1606027941427883 2\n",
      "4.787999126006694 3\n",
      "4.958354468938648 4\n",
      "4.964877613384592 5\n",
      "4.965105976154342 6\n",
      "4.96511394374049 7\n",
      "4.965114221697042 8\n",
      "4.965114221697042 -9.696728753283423e-09\n"
     ]
    }
   ],
   "source": [
    "def f_relax(x):\n",
    "    return 5 - 5*np.exp(-x)\n",
    "\n",
    "def fprime(x):\n",
    "    return -5*np.exp(-x) + 1\n",
    "\n",
    "x = 1\n",
    "counter = 1\n",
    "while np.abs(4.965114231744276-x)/np.abs(1-1/fprime(4.965114231744276)) > target:\n",
    "    counter = counter + 1\n",
    "    x = f_relax(x)\n",
    "    print(x, counter)   \n",
    "      \n",
    "\n",
    "print(x, f(x))     \n",
    "#around 8 iterations\n"
   ]
  },
  {
   "cell_type": "markdown",
   "id": "6b66917e-862d-4cf5-a649-9fa6adea7eae",
   "metadata": {},
   "source": [
    "### Exercise 3\n",
    "Solve using Newton's Method. How many iterations are required?"
   ]
  },
  {
   "cell_type": "code",
   "execution_count": 46,
   "id": "56815551",
   "metadata": {},
   "outputs": [
    {
     "name": "stdout",
     "output_type": "stream",
     "text": [
      "4.965114231752603 8.036238341446733e-12 2\n"
     ]
    }
   ],
   "source": [
    "x = 5\n",
    "counter = 1\n",
    "while np.abs(x - 4.9651142) > target:\n",
    "    x = x - f(x)/fprime(x)\n",
    "    counter = counter + 1\n",
    "\n",
    "print(x, f(x),  counter-1)   \n",
    "    #around 2-3 iterations, depending on your initial x0\n",
    "    # ie 3 for x0 = 6, 2 for x0 = 5"
   ]
  },
  {
   "cell_type": "markdown",
   "id": "0f65aac9-902b-4fb8-bd8f-4c8c5a796875",
   "metadata": {},
   "source": [
    "### Exercise 4\n",
    "Solve using Secant Method. How many iterations are required?"
   ]
  },
  {
   "cell_type": "code",
   "execution_count": 57,
   "id": "1b796ef0",
   "metadata": {},
   "outputs": [
    {
     "name": "stdout",
     "output_type": "stream",
     "text": [
      "3 4.965114418235045 1.7998489543202822e-07\n"
     ]
    }
   ],
   "source": [
    "x = []\n",
    "x.append(5)\n",
    "x.append(5.1)\n",
    "counter = 1\n",
    "while np.abs(x[counter] - 4.9651142) > target:\n",
    "    x1 = x[counter - 1]\n",
    "    x2 = x[counter]\n",
    "    x.append(x2 - (f(x2)*(x2  - x1))/(f(x2) - f(x1)))\n",
    "    counter = counter+1\n",
    "\n",
    "\n",
    "print(counter, x[counter], f(x[counter]))\n",
    "    #around 3 iterations\n"
   ]
  },
  {
   "cell_type": "markdown",
   "id": "e3d4efb4",
   "metadata": {
    "tags": []
   },
   "source": [
    "## Fun with Circuits"
   ]
  },
  {
   "cell_type": "markdown",
   "id": "169a643b-030a-4f83-8478-73cfda955b0c",
   "metadata": {
    "jp-MarkdownHeadingCollapsed": true,
    "tags": []
   },
   "source": [
    "### Physics background"
   ]
  },
  {
   "cell_type": "markdown",
   "id": "c1a28903",
   "metadata": {},
   "source": [
    "![Newman's Exercise 6.5](rescap.png)"
   ]
  },
  {
   "cell_type": "markdown",
   "id": "c6c82a27",
   "metadata": {},
   "source": [
    "Consider the above circuit. Suppose the voltage $V_+$ is time-varying and sinusoidal of the form $V_+ = x_+ \\exp(i \\omega t)$ with $x_+$ a constant.\n",
    "\n",
    "The resistors in the circuit can be treated using Ohm's law.\n",
    "For the capacitors the charge $Q$ and voltage $V$ across them are related by the capacitor law $Q=CV$, where $C$ is the capacitance.\n",
    "Differentiating both sides of this expression gives the current $I$ flowing in on one side of the capacitor and out on the other:\n",
    "\\begin{equation}\n",
    "  I = \\frac{dQ}{dt} = C \\frac{dV}{dt}.\n",
    "\\end{equation}\n",
    "Now assume the voltages at the points labeled 1, 2, and 3 are of the form $V_1 = x_1 \\exp(i \\omega t)$, $V_2 = x_2 \\exp(i \\omega t)$, and $V_3 = x_3 \\exp(i \\omega t)$.\n",
    "If you add up the currents using Kirchoff's law that at a junction the sum of the currents in equals the sum of the currents out, you can find that the constants $x_1$,\n",
    "$x_2$, and $x_3$ satisfy the equations\n",
    "\n",
    "\\begin{align*}\n",
    "  \\left( {1\\over R_1} + {1\\over R_4} + i\\omega C_1 \\right) x_1 - i\\omega C_1 x_2\n",
    "  & = {x_+\\over R_1}\\,, \\\\\n",
    "  - i\\omega C_1 x_1 + \\left( {1\\over R_2} + {1\\over R_5} + i\\omega C_1 + i\\omega C_2 \\right) x_2 - i\\omega C_2 x_3\n",
    "                                                                                           & = {x_+\\over R_2}\\,, \\\\\n",
    "  - i\\omega C_2 x_2 + \\left( {1\\over R_3} + {1\\over R_6} + i\\omega C_2 \\right) x_3\n",
    "  & = {x_+\\over R_3}\\,.\n",
    "\\end{align*}\n",
    "\n",
    "This is a linear system of equations for three complex numbers, $x_1$, $x_2$, and $x_3$."
   ]
  },
  {
   "cell_type": "markdown",
   "id": "f8a82175-8163-4eed-8596-28e65263e267",
   "metadata": {},
   "source": [
    "We will be solving the above linear system of equations in the form $A x = b$, where $x$ is the vector $(x_1 x_2 x_3$ and $b$ is the vector composed of the right-hand sides of the equations above.\n",
    "\n",
    "The following function takes as input the list of resistance values ($R_1$ to $R_6$) and the list of capacitances ($C_1$ and $C_2$), and returns (as numpy.array) the matrix $A$. "
   ]
  },
  {
   "cell_type": "code",
   "execution_count": 66,
   "id": "4acd1f7a-595e-407d-8dfe-0e29c44c9cfd",
   "metadata": {
    "tags": []
   },
   "outputs": [],
   "source": [
    "def CircuitMatrix(R, C):\n",
    "    \"\"\" I define the matrix A as a function of the one element we turn from a\n",
    "    resistor to an inductor\n",
    "    IN: element [complex]: the resistor or inductor\n",
    "    R [float]: list of resistors R1 to R5\n",
    "    C [complex]: list of capacitances C1 and C2\n",
    "    \"\"\"\n",
    "    A = np.empty((3, 3), complex)\n",
    "\n",
    "    # 1st line of matrix\n",
    "    A[0, 0] = 1./R[0] + 1./R[3] + C[0]\n",
    "    A[0, 1] = -C[0]\n",
    "    A[0, 2] = 0.\n",
    "\n",
    "    # 2nd line of matrix\n",
    "    A[1, 0] = -C[0]\n",
    "    A[1, 1] = 1./R[1] + 1./R[4] + C[0] + C[1]\n",
    "    A[1, 2] = -C[1]\n",
    "\n",
    "    # 3rd line of matrix\n",
    "    A[2, 0] = 0.\n",
    "    A[2, 1] = -C[1]\n",
    "    A[2, 2] = 1./R[2] + 1./R[5] + C[1]\n",
    "\n",
    "    return A"
   ]
  },
  {
   "cell_type": "markdown",
   "id": "2162f021-f59d-4a4e-aca5-4296ae52b309",
   "metadata": {},
   "source": [
    "And the following function takes as input the list of resistance values and the value of $x+$, and returns (as numpy.array) the vector $b$."
   ]
  },
  {
   "cell_type": "code",
   "execution_count": 80,
   "id": "81ef13bc-49be-4f0c-b187-4d4d1f91fb3a",
   "metadata": {},
   "outputs": [],
   "source": [
    "def RHS(R, xplus):\n",
    "    return xplus*np.array([1./R[0], 1./R[1], 1./R[2]], complex)\n"
   ]
  },
  {
   "cell_type": "markdown",
   "id": "4dd6e2c2-0b82-46b1-8a27-e5e709a01a2d",
   "metadata": {
    "tags": []
   },
   "source": [
    "### Exercise 5"
   ]
  },
  {
   "cell_type": "markdown",
   "id": "cc520b62",
   "metadata": {},
   "source": [
    "Use Gaussian Elimination with partial pivoting (see the code fragment below) to solve for $x_1$, $x_2$, and $x_3$. Assume the following:\n",
    "    \n",
    "\\begin{align*}\n",
    "  R_1 &= R_3 = R_5 = 1\\,\\mathrm{k}\\Omega, \\\\\n",
    "  R_2 &= R_4 = R_6 = 2\\,\\mathrm{k}\\Omega, \\\\\n",
    "  C_1 &= 1\\,\\mu\\mathrm{F},\\qquad C_2 = 0.5\\,\\mu\\mathrm{F}, \\\\\n",
    "  x_+ &= 3\\,\\mathrm{V},\\qquad \\omega = 1000~\\text{rad/s}.\n",
    "\\end{align*}\n",
    "\n",
    "Have your program calculate and print, at $t=0$, the amplitudes of the three voltages $|V_1|$, $|V_2|$, and $|V_3|$ and their phases (i.e. the phases of the coefficients $x_1, x_2, x_3$) in degrees."
   ]
  },
  {
   "cell_type": "markdown",
   "id": "b5056cd3-37a2-4bd1-b1e5-2afe70c6d8c5",
   "metadata": {},
   "source": [
    "*Notice that the matrix for this problem has complex elements. You will need to define a complex array to hold it, but your routine should be able to work with real or complex arguments.*\n",
    "\n",
    "*Hint: the built-in abs() will compute the magnitude, and numpy.angle() will compute the phase of a complex number. You could also use polar and phase from the cmath package.*"
   ]
  },
  {
   "cell_type": "code",
   "execution_count": 67,
   "id": "b6121450-ef31-42cb-81d2-7960651e0f31",
   "metadata": {
    "tags": []
   },
   "outputs": [],
   "source": [
    "import numpy as np\n",
    "def GaussElim(A_in, v_in, pivot=False):\n",
    "    \"\"\"Implement Gaussian Elimination. This should be non-destructive for input\n",
    "    arrays, so we will copy A and v to temporary variables\n",
    "    IN:\n",
    "    A_in [np.array], the matrix to pivot and triangularize\n",
    "    v_in [np.array], the RHS vector\n",
    "    pivot [bool, default-False]: user decides if we pivot or not.\n",
    "    OUT:\n",
    "    x, the vector solution of A_in x = v_in \"\"\"\n",
    "    # copy A and v to temporary variables using copy command\n",
    "    A = np.copy(A_in)\n",
    "    v = np.copy(v_in)\n",
    "    N = len(v)\n",
    "\n",
    "    for m in range(N):\n",
    "        if pivot:  # This is where I modify GaussElim\n",
    "            # compare the mth element to all other mth elements below\n",
    "            ZeRow = m\n",
    "            for mm in range(m+1, N):\n",
    "                if abs(A[mm, m]) > abs(A[ZeRow, m]):\n",
    "                    ZeRow = mm  # I could swap everytime I find a hit, but that\n",
    "                    # would be a lot of operations. Instead, I just take note\n",
    "                    # of which row emerges as the winner\n",
    "\n",
    "            if ZeRow != m:  # now we know if and what to swap\n",
    "                A[ZeRow, :], A[m, :] = np.copy(A[m, :]), np.copy(A[ZeRow, :])\n",
    "                v[ZeRow], v[m] = np.copy(v[m]), np.copy(v[ZeRow])\n",
    "\n",
    "        # Divide by the diagonal element\n",
    "        div = A[m, m]\n",
    "        A[m, :] /= div\n",
    "        v[m] /= div\n",
    "\n",
    "        # Now subtract from the lower rows\n",
    "        for i in range(m+1, N):\n",
    "            mult = A[i, m]\n",
    "            A[i, :] -= mult*A[m, :]\n",
    "            v[i] -= mult*v[m]\n",
    "\n",
    "    # Backsubstitution\n",
    "    # create an array of the same type as the input array\n",
    "    x = np.empty(N, dtype=v.dtype)\n",
    "    for m in range(N-1, -1, -1):\n",
    "        x[m] = v[m]\n",
    "        for i in range(m+1, N):\n",
    "            x[m] -= A[m, i]*x[i]\n",
    "    return x\n",
    "\n",
    "def PartialPivot(A_in, v_in):\n",
    "    \"\"\" see textbook p. 222) \"\"\"\n",
    "    return GaussElim(A_in, v_in, True)"
   ]
  },
  {
   "cell_type": "code",
   "execution_count": 82,
   "metadata": {},
   "outputs": [
    {
     "name": "stdout",
     "output_type": "stream",
     "text": [
      "[ 6.00000000e+00+0.j -2.22044605e-16+0.j  5.25000000e+00+0.j]\n",
      "0.0\n",
      "3.141592653589793\n",
      "0.0\n"
     ]
    }
   ],
   "source": [
    "R1 = 1\n",
    "R3 = 1\n",
    "R5 = 1\n",
    "\n",
    "R2 = 2\n",
    "R4 = 2\n",
    "R6 = 2\n",
    "\n",
    "C1 = 1\n",
    "C2 = 0.5\n",
    "\n",
    "xplus = 3\n",
    "omega = 1000\n",
    "\n",
    "V_in = RHS([R1, R2, R3], xplus)\n",
    "\n",
    "G = CircuitMatrix([R1, R2, R3, R4, R5, R6], [C1, C2])\n",
    "\n",
    "out = PartialPivot(np.linalg.inv(G), V_in)\n",
    "\n",
    "print(out)\n",
    "\n",
    "\n",
    "for i in out:\n",
    "    print(np.angle(i))\n",
    "\n",
    "#I wasn't getting complex values, only reals ... middle magnitude was zero hence phase was technically undefined.\n",
    "#[ 6.00000000e+00+0.j -2.22044605e-16+0.j  5.25000000e+00+0.j]\n",
    "# 0.0\n",
    "# 3.141592653589793\n",
    "# 0.0"
   ]
  }
 ],
 "metadata": {
  "kernelspec": {
   "display_name": "base",
   "language": "python",
   "name": "python3"
  },
  "language_info": {
   "codemirror_mode": {
    "name": "ipython",
    "version": 3
   },
   "file_extension": ".py",
   "mimetype": "text/x-python",
   "name": "python",
   "nbconvert_exporter": "python",
   "pygments_lexer": "ipython3",
   "version": "3.12.2"
  }
 },
 "nbformat": 4,
 "nbformat_minor": 5
}
